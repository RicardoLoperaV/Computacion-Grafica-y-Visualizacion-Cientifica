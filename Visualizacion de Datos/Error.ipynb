{
 "cells": [
  {
   "cell_type": "markdown",
   "id": "a1deeea7",
   "metadata": {},
   "source": [
    "**Build a Predictive Model:** Lets create a classification model to test if it's possible to accurately predict which stress a plant is experiencing based solely on its spectral data.  "
   ]
  },
  {
   "cell_type": "code",
   "execution_count": null,
   "id": "eb50c422",
   "metadata": {},
   "outputs": [],
   "source": []
  }
 ],
 "metadata": {
  "language_info": {
   "name": "python"
  }
 },
 "nbformat": 4,
 "nbformat_minor": 5
}
