{
 "cells": [
  {
   "cell_type": "markdown",
   "id": "a1deeea7",
   "metadata": {},
   "source": [
    "**Build a Predictive Model:** Lets create a classification model to test if it's possible to accurately predict which stress a plant is experiencing based solely on its spectral data.  "
   ]
  },
  {
   "cell_type": "code",
   "execution_count": 1,
   "id": "eb50c422",
   "metadata": {},
   "outputs": [],
   "source": [
    "# Lets import the necessary libraries\n",
    "import pandas as pd\n",
    "import numpy as np\n",
    "import seaborn as sns\n",
    "import matplotlib.pyplot as plt\n",
    "import seaborn as sns\n",
    "from sklearn.preprocessing import OrdinalEncoder\n",
    "from sklearn.model_selection import train_test_split\n",
    "import keras\n",
    "\n",
    "# import the first sheet of the dataset\n",
    "df1 = pd.read_excel(\"Datos1_InteraccionesNIR.xlsx\", sheet_name=0)"
   ]
  },
  {
   "cell_type": "code",
   "execution_count": 2,
   "id": "a0038f5b",
   "metadata": {},
   "outputs": [
    {
     "name": "stdout",
     "output_type": "stream",
     "text": [
      "features dataframe:\n"
     ]
    },
    {
     "data": {
      "text/html": [
       "<div>\n",
       "<style scoped>\n",
       "    .dataframe tbody tr th:only-of-type {\n",
       "        vertical-align: middle;\n",
       "    }\n",
       "\n",
       "    .dataframe tbody tr th {\n",
       "        vertical-align: top;\n",
       "    }\n",
       "\n",
       "    .dataframe thead th {\n",
       "        text-align: right;\n",
       "    }\n",
       "</style>\n",
       "<table border=\"1\" class=\"dataframe\">\n",
       "  <thead>\n",
       "    <tr style=\"text-align: right;\">\n",
       "      <th></th>\n",
       "      <th>350</th>\n",
       "      <th>351</th>\n",
       "      <th>352</th>\n",
       "      <th>353</th>\n",
       "      <th>354</th>\n",
       "      <th>355</th>\n",
       "      <th>356</th>\n",
       "      <th>357</th>\n",
       "      <th>358</th>\n",
       "      <th>359</th>\n",
       "      <th>...</th>\n",
       "      <th>2491</th>\n",
       "      <th>2492</th>\n",
       "      <th>2493</th>\n",
       "      <th>2494</th>\n",
       "      <th>2495</th>\n",
       "      <th>2496</th>\n",
       "      <th>2497</th>\n",
       "      <th>2498</th>\n",
       "      <th>2499</th>\n",
       "      <th>2500</th>\n",
       "    </tr>\n",
       "  </thead>\n",
       "  <tbody>\n",
       "    <tr>\n",
       "      <th>0</th>\n",
       "      <td>0.061030</td>\n",
       "      <td>0.060394</td>\n",
       "      <td>0.053344</td>\n",
       "      <td>0.054736</td>\n",
       "      <td>0.057163</td>\n",
       "      <td>0.055928</td>\n",
       "      <td>0.049880</td>\n",
       "      <td>0.043096</td>\n",
       "      <td>0.041127</td>\n",
       "      <td>0.044614</td>\n",
       "      <td>...</td>\n",
       "      <td>0.044963</td>\n",
       "      <td>0.044834</td>\n",
       "      <td>0.044802</td>\n",
       "      <td>0.044657</td>\n",
       "      <td>0.044370</td>\n",
       "      <td>0.044198</td>\n",
       "      <td>0.044046</td>\n",
       "      <td>0.043928</td>\n",
       "      <td>0.043878</td>\n",
       "      <td>0.043752</td>\n",
       "    </tr>\n",
       "    <tr>\n",
       "      <th>1</th>\n",
       "      <td>0.060823</td>\n",
       "      <td>0.060909</td>\n",
       "      <td>0.056016</td>\n",
       "      <td>0.056755</td>\n",
       "      <td>0.057975</td>\n",
       "      <td>0.056499</td>\n",
       "      <td>0.051715</td>\n",
       "      <td>0.047413</td>\n",
       "      <td>0.045700</td>\n",
       "      <td>0.046623</td>\n",
       "      <td>...</td>\n",
       "      <td>0.037656</td>\n",
       "      <td>0.037458</td>\n",
       "      <td>0.037266</td>\n",
       "      <td>0.037120</td>\n",
       "      <td>0.036929</td>\n",
       "      <td>0.036832</td>\n",
       "      <td>0.036861</td>\n",
       "      <td>0.036779</td>\n",
       "      <td>0.036661</td>\n",
       "      <td>0.036570</td>\n",
       "    </tr>\n",
       "    <tr>\n",
       "      <th>2</th>\n",
       "      <td>0.059742</td>\n",
       "      <td>0.060113</td>\n",
       "      <td>0.057320</td>\n",
       "      <td>0.059280</td>\n",
       "      <td>0.059741</td>\n",
       "      <td>0.057078</td>\n",
       "      <td>0.053557</td>\n",
       "      <td>0.049205</td>\n",
       "      <td>0.047486</td>\n",
       "      <td>0.048903</td>\n",
       "      <td>...</td>\n",
       "      <td>0.036252</td>\n",
       "      <td>0.036049</td>\n",
       "      <td>0.035732</td>\n",
       "      <td>0.035558</td>\n",
       "      <td>0.035431</td>\n",
       "      <td>0.035338</td>\n",
       "      <td>0.035368</td>\n",
       "      <td>0.035286</td>\n",
       "      <td>0.035157</td>\n",
       "      <td>0.035058</td>\n",
       "    </tr>\n",
       "    <tr>\n",
       "      <th>3</th>\n",
       "      <td>0.048861</td>\n",
       "      <td>0.047099</td>\n",
       "      <td>0.044486</td>\n",
       "      <td>0.049340</td>\n",
       "      <td>0.052701</td>\n",
       "      <td>0.050598</td>\n",
       "      <td>0.044007</td>\n",
       "      <td>0.038449</td>\n",
       "      <td>0.036496</td>\n",
       "      <td>0.038123</td>\n",
       "      <td>...</td>\n",
       "      <td>0.033894</td>\n",
       "      <td>0.033762</td>\n",
       "      <td>0.033693</td>\n",
       "      <td>0.033536</td>\n",
       "      <td>0.033412</td>\n",
       "      <td>0.033204</td>\n",
       "      <td>0.032831</td>\n",
       "      <td>0.032637</td>\n",
       "      <td>0.032501</td>\n",
       "      <td>0.032376</td>\n",
       "    </tr>\n",
       "    <tr>\n",
       "      <th>4</th>\n",
       "      <td>0.063155</td>\n",
       "      <td>0.060788</td>\n",
       "      <td>0.057388</td>\n",
       "      <td>0.058424</td>\n",
       "      <td>0.060128</td>\n",
       "      <td>0.059009</td>\n",
       "      <td>0.053017</td>\n",
       "      <td>0.048921</td>\n",
       "      <td>0.047316</td>\n",
       "      <td>0.048053</td>\n",
       "      <td>...</td>\n",
       "      <td>0.033897</td>\n",
       "      <td>0.033729</td>\n",
       "      <td>0.033675</td>\n",
       "      <td>0.033571</td>\n",
       "      <td>0.033515</td>\n",
       "      <td>0.033441</td>\n",
       "      <td>0.033317</td>\n",
       "      <td>0.033257</td>\n",
       "      <td>0.033285</td>\n",
       "      <td>0.033205</td>\n",
       "    </tr>\n",
       "  </tbody>\n",
       "</table>\n",
       "<p>5 rows × 2151 columns</p>\n",
       "</div>"
      ],
      "text/plain": [
       "       350       351       352       353       354       355       356   \\\n",
       "0  0.061030  0.060394  0.053344  0.054736  0.057163  0.055928  0.049880   \n",
       "1  0.060823  0.060909  0.056016  0.056755  0.057975  0.056499  0.051715   \n",
       "2  0.059742  0.060113  0.057320  0.059280  0.059741  0.057078  0.053557   \n",
       "3  0.048861  0.047099  0.044486  0.049340  0.052701  0.050598  0.044007   \n",
       "4  0.063155  0.060788  0.057388  0.058424  0.060128  0.059009  0.053017   \n",
       "\n",
       "       357       358       359   ...      2491      2492      2493      2494  \\\n",
       "0  0.043096  0.041127  0.044614  ...  0.044963  0.044834  0.044802  0.044657   \n",
       "1  0.047413  0.045700  0.046623  ...  0.037656  0.037458  0.037266  0.037120   \n",
       "2  0.049205  0.047486  0.048903  ...  0.036252  0.036049  0.035732  0.035558   \n",
       "3  0.038449  0.036496  0.038123  ...  0.033894  0.033762  0.033693  0.033536   \n",
       "4  0.048921  0.047316  0.048053  ...  0.033897  0.033729  0.033675  0.033571   \n",
       "\n",
       "       2495      2496      2497      2498      2499      2500  \n",
       "0  0.044370  0.044198  0.044046  0.043928  0.043878  0.043752  \n",
       "1  0.036929  0.036832  0.036861  0.036779  0.036661  0.036570  \n",
       "2  0.035431  0.035338  0.035368  0.035286  0.035157  0.035058  \n",
       "3  0.033412  0.033204  0.032831  0.032637  0.032501  0.032376  \n",
       "4  0.033515  0.033441  0.033317  0.033257  0.033285  0.033205  \n",
       "\n",
       "[5 rows x 2151 columns]"
      ]
     },
     "execution_count": 2,
     "metadata": {},
     "output_type": "execute_result"
    }
   ],
   "source": [
    "#Let's separate the features and the target variable\n",
    "X_features = df1.drop(columns=[\"Tratamiento\", \"Planta\"])\n",
    "\n",
    "y_target = df1[\"Tratamiento\"]\n",
    "\n",
    "print(\"features dataframe:\")\n",
    "X_features.head()"
   ]
  },
  {
   "cell_type": "code",
   "execution_count": 3,
   "id": "bcba0742",
   "metadata": {},
   "outputs": [
    {
     "name": "stdout",
     "output_type": "stream",
     "text": [
      "target variable:\n"
     ]
    },
    {
     "data": {
      "text/plain": [
       "0    Control\n",
       "1    Control\n",
       "2    Control\n",
       "3    Control\n",
       "4    Control\n",
       "Name: Tratamiento, dtype: object"
      ]
     },
     "execution_count": 3,
     "metadata": {},
     "output_type": "execute_result"
    }
   ],
   "source": [
    "print(\"target variable:\")\n",
    "y_target.head()"
   ]
  },
  {
   "cell_type": "code",
   "execution_count": 4,
   "id": "c33da6b3",
   "metadata": {},
   "outputs": [
    {
     "name": "stdout",
     "output_type": "stream",
     "text": [
      "[0. 1. 2. 3. 4. 5. 6. 7.]\n",
      "['Control' 'Ralstonia' 'Fusarium' 'E_Hidrico' 'Ral_Fus' 'Ral_EH' 'Fus_EH'\n",
      " 'Fus_EH_Ral']\n"
     ]
    }
   ],
   "source": [
    "#let's create an instance of OrdinalEncoder\n",
    "encoder = OrdinalEncoder()\n",
    "\n",
    "# Apply OrdinalEncoder to the target variable\n",
    "y_target_encoded = encoder.fit_transform(y_target.values.reshape(-1, 1))\n",
    "\n",
    "# Check the encoded target variable\n",
    "y_target_encoded[-15:]\n",
    "\n",
    "# Let's print the unique values in the array to see the encoding\n",
    "print(np.unique(y_target_encoded))\n",
    "\n",
    "# see that theres 8 unique values in the target variable\n",
    "print(y_target.unique())"
   ]
  },
  {
   "cell_type": "code",
   "execution_count": 5,
   "id": "17a56086",
   "metadata": {},
   "outputs": [],
   "source": [
    "# lets split the dataset into training and testing sets\n",
    "X_train, X_test, y_train, y_test = train_test_split(X_features, y_target_encoded, test_size=0.2, random_state=42)"
   ]
  },
  {
   "cell_type": "markdown",
   "id": "46097da2",
   "metadata": {},
   "source": [
    "Let's make a 1 dimensional Convolutional Neural Network (1D CNN) using TensorFlow/Keras."
   ]
  },
  {
   "cell_type": "code",
   "execution_count": 6,
   "id": "0bbb5b42",
   "metadata": {},
   "outputs": [
    {
     "name": "stdout",
     "output_type": "stream",
     "text": [
      "Number of classes: 8\n",
      "Input shape: (2151, 1)\n"
     ]
    },
    {
     "data": {
      "text/html": [
       "<pre style=\"white-space:pre;overflow-x:auto;line-height:normal;font-family:Menlo,'DejaVu Sans Mono',consolas,'Courier New',monospace\"><span style=\"font-weight: bold\">Model: \"sequential\"</span>\n",
       "</pre>\n"
      ],
      "text/plain": [
       "\u001b[1mModel: \"sequential\"\u001b[0m\n"
      ]
     },
     "metadata": {},
     "output_type": "display_data"
    },
    {
     "data": {
      "text/html": [
       "<pre style=\"white-space:pre;overflow-x:auto;line-height:normal;font-family:Menlo,'DejaVu Sans Mono',consolas,'Courier New',monospace\">┏━━━━━━━━━━━━━━━━━━━━━━━━━━━━━━━━━┳━━━━━━━━━━━━━━━━━━━━━━━━┳━━━━━━━━━━━━━━━┓\n",
       "┃<span style=\"font-weight: bold\"> Layer (type)                    </span>┃<span style=\"font-weight: bold\"> Output Shape           </span>┃<span style=\"font-weight: bold\">       Param # </span>┃\n",
       "┡━━━━━━━━━━━━━━━━━━━━━━━━━━━━━━━━━╇━━━━━━━━━━━━━━━━━━━━━━━━╇━━━━━━━━━━━━━━━┩\n",
       "│ conv1d (<span style=\"color: #0087ff; text-decoration-color: #0087ff\">Conv1D</span>)                 │ (<span style=\"color: #00d7ff; text-decoration-color: #00d7ff\">None</span>, <span style=\"color: #00af00; text-decoration-color: #00af00\">2151</span>, <span style=\"color: #00af00; text-decoration-color: #00af00\">32</span>)       │           <span style=\"color: #00af00; text-decoration-color: #00af00\">192</span> │\n",
       "├─────────────────────────────────┼────────────────────────┼───────────────┤\n",
       "│ max_pooling1d (<span style=\"color: #0087ff; text-decoration-color: #0087ff\">MaxPooling1D</span>)    │ (<span style=\"color: #00d7ff; text-decoration-color: #00d7ff\">None</span>, <span style=\"color: #00af00; text-decoration-color: #00af00\">537</span>, <span style=\"color: #00af00; text-decoration-color: #00af00\">32</span>)        │             <span style=\"color: #00af00; text-decoration-color: #00af00\">0</span> │\n",
       "├─────────────────────────────────┼────────────────────────┼───────────────┤\n",
       "│ conv1d_1 (<span style=\"color: #0087ff; text-decoration-color: #0087ff\">Conv1D</span>)               │ (<span style=\"color: #00d7ff; text-decoration-color: #00d7ff\">None</span>, <span style=\"color: #00af00; text-decoration-color: #00af00\">537</span>, <span style=\"color: #00af00; text-decoration-color: #00af00\">64</span>)        │        <span style=\"color: #00af00; text-decoration-color: #00af00\">10,304</span> │\n",
       "├─────────────────────────────────┼────────────────────────┼───────────────┤\n",
       "│ max_pooling1d_1 (<span style=\"color: #0087ff; text-decoration-color: #0087ff\">MaxPooling1D</span>)  │ (<span style=\"color: #00d7ff; text-decoration-color: #00d7ff\">None</span>, <span style=\"color: #00af00; text-decoration-color: #00af00\">134</span>, <span style=\"color: #00af00; text-decoration-color: #00af00\">64</span>)        │             <span style=\"color: #00af00; text-decoration-color: #00af00\">0</span> │\n",
       "├─────────────────────────────────┼────────────────────────┼───────────────┤\n",
       "│ flatten (<span style=\"color: #0087ff; text-decoration-color: #0087ff\">Flatten</span>)               │ (<span style=\"color: #00d7ff; text-decoration-color: #00d7ff\">None</span>, <span style=\"color: #00af00; text-decoration-color: #00af00\">8576</span>)           │             <span style=\"color: #00af00; text-decoration-color: #00af00\">0</span> │\n",
       "├─────────────────────────────────┼────────────────────────┼───────────────┤\n",
       "│ dense (<span style=\"color: #0087ff; text-decoration-color: #0087ff\">Dense</span>)                   │ (<span style=\"color: #00d7ff; text-decoration-color: #00d7ff\">None</span>, <span style=\"color: #00af00; text-decoration-color: #00af00\">100</span>)            │       <span style=\"color: #00af00; text-decoration-color: #00af00\">857,700</span> │\n",
       "├─────────────────────────────────┼────────────────────────┼───────────────┤\n",
       "│ dropout (<span style=\"color: #0087ff; text-decoration-color: #0087ff\">Dropout</span>)               │ (<span style=\"color: #00d7ff; text-decoration-color: #00d7ff\">None</span>, <span style=\"color: #00af00; text-decoration-color: #00af00\">100</span>)            │             <span style=\"color: #00af00; text-decoration-color: #00af00\">0</span> │\n",
       "├─────────────────────────────────┼────────────────────────┼───────────────┤\n",
       "│ dense_1 (<span style=\"color: #0087ff; text-decoration-color: #0087ff\">Dense</span>)                 │ (<span style=\"color: #00d7ff; text-decoration-color: #00d7ff\">None</span>, <span style=\"color: #00af00; text-decoration-color: #00af00\">8</span>)              │           <span style=\"color: #00af00; text-decoration-color: #00af00\">808</span> │\n",
       "└─────────────────────────────────┴────────────────────────┴───────────────┘\n",
       "</pre>\n"
      ],
      "text/plain": [
       "┏━━━━━━━━━━━━━━━━━━━━━━━━━━━━━━━━━┳━━━━━━━━━━━━━━━━━━━━━━━━┳━━━━━━━━━━━━━━━┓\n",
       "┃\u001b[1m \u001b[0m\u001b[1mLayer (type)                   \u001b[0m\u001b[1m \u001b[0m┃\u001b[1m \u001b[0m\u001b[1mOutput Shape          \u001b[0m\u001b[1m \u001b[0m┃\u001b[1m \u001b[0m\u001b[1m      Param #\u001b[0m\u001b[1m \u001b[0m┃\n",
       "┡━━━━━━━━━━━━━━━━━━━━━━━━━━━━━━━━━╇━━━━━━━━━━━━━━━━━━━━━━━━╇━━━━━━━━━━━━━━━┩\n",
       "│ conv1d (\u001b[38;5;33mConv1D\u001b[0m)                 │ (\u001b[38;5;45mNone\u001b[0m, \u001b[38;5;34m2151\u001b[0m, \u001b[38;5;34m32\u001b[0m)       │           \u001b[38;5;34m192\u001b[0m │\n",
       "├─────────────────────────────────┼────────────────────────┼───────────────┤\n",
       "│ max_pooling1d (\u001b[38;5;33mMaxPooling1D\u001b[0m)    │ (\u001b[38;5;45mNone\u001b[0m, \u001b[38;5;34m537\u001b[0m, \u001b[38;5;34m32\u001b[0m)        │             \u001b[38;5;34m0\u001b[0m │\n",
       "├─────────────────────────────────┼────────────────────────┼───────────────┤\n",
       "│ conv1d_1 (\u001b[38;5;33mConv1D\u001b[0m)               │ (\u001b[38;5;45mNone\u001b[0m, \u001b[38;5;34m537\u001b[0m, \u001b[38;5;34m64\u001b[0m)        │        \u001b[38;5;34m10,304\u001b[0m │\n",
       "├─────────────────────────────────┼────────────────────────┼───────────────┤\n",
       "│ max_pooling1d_1 (\u001b[38;5;33mMaxPooling1D\u001b[0m)  │ (\u001b[38;5;45mNone\u001b[0m, \u001b[38;5;34m134\u001b[0m, \u001b[38;5;34m64\u001b[0m)        │             \u001b[38;5;34m0\u001b[0m │\n",
       "├─────────────────────────────────┼────────────────────────┼───────────────┤\n",
       "│ flatten (\u001b[38;5;33mFlatten\u001b[0m)               │ (\u001b[38;5;45mNone\u001b[0m, \u001b[38;5;34m8576\u001b[0m)           │             \u001b[38;5;34m0\u001b[0m │\n",
       "├─────────────────────────────────┼────────────────────────┼───────────────┤\n",
       "│ dense (\u001b[38;5;33mDense\u001b[0m)                   │ (\u001b[38;5;45mNone\u001b[0m, \u001b[38;5;34m100\u001b[0m)            │       \u001b[38;5;34m857,700\u001b[0m │\n",
       "├─────────────────────────────────┼────────────────────────┼───────────────┤\n",
       "│ dropout (\u001b[38;5;33mDropout\u001b[0m)               │ (\u001b[38;5;45mNone\u001b[0m, \u001b[38;5;34m100\u001b[0m)            │             \u001b[38;5;34m0\u001b[0m │\n",
       "├─────────────────────────────────┼────────────────────────┼───────────────┤\n",
       "│ dense_1 (\u001b[38;5;33mDense\u001b[0m)                 │ (\u001b[38;5;45mNone\u001b[0m, \u001b[38;5;34m8\u001b[0m)              │           \u001b[38;5;34m808\u001b[0m │\n",
       "└─────────────────────────────────┴────────────────────────┴───────────────┘\n"
      ]
     },
     "metadata": {},
     "output_type": "display_data"
    },
    {
     "data": {
      "text/html": [
       "<pre style=\"white-space:pre;overflow-x:auto;line-height:normal;font-family:Menlo,'DejaVu Sans Mono',consolas,'Courier New',monospace\"><span style=\"font-weight: bold\"> Total params: </span><span style=\"color: #00af00; text-decoration-color: #00af00\">869,004</span> (3.31 MB)\n",
       "</pre>\n"
      ],
      "text/plain": [
       "\u001b[1m Total params: \u001b[0m\u001b[38;5;34m869,004\u001b[0m (3.31 MB)\n"
      ]
     },
     "metadata": {},
     "output_type": "display_data"
    },
    {
     "data": {
      "text/html": [
       "<pre style=\"white-space:pre;overflow-x:auto;line-height:normal;font-family:Menlo,'DejaVu Sans Mono',consolas,'Courier New',monospace\"><span style=\"font-weight: bold\"> Trainable params: </span><span style=\"color: #00af00; text-decoration-color: #00af00\">869,004</span> (3.31 MB)\n",
       "</pre>\n"
      ],
      "text/plain": [
       "\u001b[1m Trainable params: \u001b[0m\u001b[38;5;34m869,004\u001b[0m (3.31 MB)\n"
      ]
     },
     "metadata": {},
     "output_type": "display_data"
    },
    {
     "data": {
      "text/html": [
       "<pre style=\"white-space:pre;overflow-x:auto;line-height:normal;font-family:Menlo,'DejaVu Sans Mono',consolas,'Courier New',monospace\"><span style=\"font-weight: bold\"> Non-trainable params: </span><span style=\"color: #00af00; text-decoration-color: #00af00\">0</span> (0.00 B)\n",
       "</pre>\n"
      ],
      "text/plain": [
       "\u001b[1m Non-trainable params: \u001b[0m\u001b[38;5;34m0\u001b[0m (0.00 B)\n"
      ]
     },
     "metadata": {},
     "output_type": "display_data"
    }
   ],
   "source": [
    "# Reshape the input data for Conv1D (samples, timestamps, features)\n",
    "# We need to add an extra dimension to the data\n",
    "X_train_reshaped = X_train.values.reshape(X_train.shape[0], X_train.shape[1], 1)\n",
    "X_test_reshaped = X_test.values.reshape(X_test.shape[0], X_test.shape[1], 1)\n",
    "\n",
    "# Get the number of classes from the data\n",
    "num_classes = len(np.unique(y_target_encoded))\n",
    "print(f\"Number of classes: {num_classes}\")\n",
    "\n",
    "# Define the input shape for our Conv1D model\n",
    "input_shape = (X_train.shape[1], 1)  # (2151, 1)\n",
    "print(f\"Input shape: {input_shape}\")\n",
    "\n",
    "# Build the 1D CNN model\n",
    "model = keras.Sequential([\n",
    "    # Input layer\n",
    "    keras.layers.Input(shape=input_shape),\n",
    "    \n",
    "    # First Conv1D block\n",
    "    keras.layers.Conv1D(filters=32, kernel_size=5, activation='relu', padding='same'),\n",
    "    keras.layers.MaxPooling1D(pool_size=4),\n",
    "    \n",
    "    # Second Conv1D block\n",
    "    keras.layers.Conv1D(filters=64, kernel_size=5, activation='relu', padding='same'),\n",
    "    keras.layers.MaxPooling1D(pool_size=4),\n",
    "    \n",
    "    # Flatten the output to feed into Dense layers\n",
    "    keras.layers.Flatten(),\n",
    "    \n",
    "    # Dense hidden layer\n",
    "    keras.layers.Dense(100, activation='relu'),\n",
    "    \n",
    "    # Dropout for regularization to prevent overfitting\n",
    "    keras.layers.Dropout(0.5),\n",
    "    \n",
    "    # Output layer with softmax for multi-class classification\n",
    "    keras.layers.Dense(num_classes, activation='softmax')\n",
    "])\n",
    "\n",
    "# Compile the model\n",
    "model.compile(\n",
    "    optimizer='adam',\n",
    "    loss='sparse_categorical_crossentropy',  # Use sparse since our labels are integers\n",
    "    metrics=['accuracy']\n",
    ")\n",
    "\n",
    "# Display the model architecture\n",
    "model.summary()"
   ]
  },
  {
   "cell_type": "code",
   "execution_count": null,
   "id": "b295730f",
   "metadata": {},
   "outputs": [],
   "source": [
    "# Define batch size and number of epochs\n",
    "batch_size = 128\n",
    "epochs = 100\n",
    "\n",
    "#lets define a callback for early stopping\n",
    "early_stopping = keras.callbacks.EarlyStopping(monitor='val_loss', patience=10, restore_best_weights=True)\n",
    "\n",
    "# Train the model\n",
    "history = model.fit(X_train_reshaped, y_train, epochs=epochs, batch_size=batch_size, validation_split=0.1, callbacks=[early_stopping])"
   ]
  }
 ],
 "metadata": {
  "kernelspec": {
   "display_name": "Python 3",
   "language": "python",
   "name": "python3"
  },
  "language_info": {
   "codemirror_mode": {
    "name": "ipython",
    "version": 3
   },
   "file_extension": ".py",
   "mimetype": "text/x-python",
   "name": "python",
   "nbconvert_exporter": "python",
   "pygments_lexer": "ipython3",
   "version": "3.13.1"
  }
 },
 "nbformat": 4,
 "nbformat_minor": 5
}
